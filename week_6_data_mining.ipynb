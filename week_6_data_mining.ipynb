{
  "nbformat": 4,
  "nbformat_minor": 0,
  "metadata": {
    "colab": {
      "provenance": [],
      "authorship_tag": "ABX9TyNyceDqJVXgUabYgvtqUOqt",
      "include_colab_link": true
    },
    "kernelspec": {
      "name": "python3",
      "display_name": "Python 3"
    },
    "language_info": {
      "name": "python"
    }
  },
  "cells": [
    {
      "cell_type": "markdown",
      "metadata": {
        "id": "view-in-github",
        "colab_type": "text"
      },
      "source": [
        "<a href=\"https://colab.research.google.com/github/vineethreddy09/DATAMINING/blob/main/week_6_data_mining.ipynb\" target=\"_parent\"><img src=\"https://colab.research.google.com/assets/colab-badge.svg\" alt=\"Open In Colab\"/></a>"
      ]
    },
    {
      "cell_type": "code",
      "execution_count": 1,
      "metadata": {
        "id": "sweQGQB9NzHC"
      },
      "outputs": [],
      "source": [
        "\n",
        "import pandas as pd\n",
        "from sklearn.preprocessing import LabelEncoder,OneHotEncoder"
      ]
    },
    {
      "cell_type": "code",
      "source": [
        "data = {'Names':['Akshith','Sunny','Shiva'],'Hno':[1959,2040,1843]}\n",
        "df = pd.DataFrame(data)\n",
        "\n"
      ],
      "metadata": {
        "id": "hrw73RATOQIj"
      },
      "execution_count": 2,
      "outputs": []
    },
    {
      "cell_type": "code",
      "source": [
        "label_encoder = LabelEncoder()\n",
        "df['Hno_encoded'] = label_encoder.fit_transform(df['Hno'])\n"
      ],
      "metadata": {
        "id": "PHXu9A9XOT_W"
      },
      "execution_count": 3,
      "outputs": []
    },
    {
      "cell_type": "code",
      "source": [
        "one_hot_encoded = pd.get_dummies(df['Names'],prefix = 'Names')\n",
        "df = pd.concat([df,one_hot_encoded], axis = 1)\n"
      ],
      "metadata": {
        "id": "FMB6dDN7Otkz"
      },
      "execution_count": 4,
      "outputs": []
    },
    {
      "cell_type": "code",
      "source": [
        "print(df)\n"
      ],
      "metadata": {
        "colab": {
          "base_uri": "https://localhost:8080/"
        },
        "id": "G4tgGJd1OyYr",
        "outputId": "c2c6a9a9-93c0-4bf9-d13d-141593d003b2"
      },
      "execution_count": 5,
      "outputs": [
        {
          "output_type": "stream",
          "name": "stdout",
          "text": [
            "     Names   Hno  Hno_encoded  Names_Akshith  Names_Shiva  Names_Sunny\n",
            "0  Akshith  1959            1           True        False        False\n",
            "1    Sunny  2040            2          False        False         True\n",
            "2    Shiva  1843            0          False         True        False\n"
          ]
        }
      ]
    },
    {
      "cell_type": "code",
      "source": [
        "from datetime import datetime"
      ],
      "metadata": {
        "id": "bTOE_rBiPlvi"
      },
      "execution_count": 6,
      "outputs": []
    },
    {
      "cell_type": "code",
      "source": [
        "data = {'Name': ['Alice', 'Bob'], 'Date_of_Birth': ['1990-05-14', '1985-08-23']}\n",
        "df = pd.DataFrame(data)"
      ],
      "metadata": {
        "id": "D9d7bsbEPrWG"
      },
      "execution_count": 8,
      "outputs": []
    },
    {
      "cell_type": "code",
      "source": [
        "df['Date_of_Birth'] = pd.to_datetime(df['Date_of_Birth'])"
      ],
      "metadata": {
        "id": "KswM-PpHP1VH"
      },
      "execution_count": 9,
      "outputs": []
    },
    {
      "cell_type": "code",
      "source": [
        "current_year = datetime.now().year\n",
        "df['Age'] = current_year - df['Date_of_Birth'].dt.year\n",
        "print(df)\n"
      ],
      "metadata": {
        "colab": {
          "base_uri": "https://localhost:8080/"
        },
        "id": "yIXqGvBOP352",
        "outputId": "b2838f61-e9fa-4731-e132-dd3614099255"
      },
      "execution_count": 11,
      "outputs": [
        {
          "output_type": "stream",
          "name": "stdout",
          "text": [
            "    Name Date_of_Birth  Age\n",
            "0  Alice    1990-05-14   35\n",
            "1    Bob    1985-08-23   40\n"
          ]
        }
      ]
    },
    {
      "cell_type": "code",
      "source": [
        "data = {'Category': ['A', 'A', 'B', 'B', 'C'],\n",
        " 'Value': [10, 20, 10, 30, 40]}\n",
        "df = pd.DataFrame(data)"
      ],
      "metadata": {
        "id": "HoIYgpnGQHFv"
      },
      "execution_count": 15,
      "outputs": []
    },
    {
      "cell_type": "code",
      "source": [
        "grouped = df.groupby('Category').agg({'Value': ['sum', 'mean']})\n",
        "print(\"Grouped Data:\\n\", grouped)"
      ],
      "metadata": {
        "colab": {
          "base_uri": "https://localhost:8080/"
        },
        "id": "cXqSf372Q4rR",
        "outputId": "bfb3f97a-43bd-4e9f-cb60-4bc01132b33e"
      },
      "execution_count": 16,
      "outputs": [
        {
          "output_type": "stream",
          "name": "stdout",
          "text": [
            "Grouped Data:\n",
            "          Value      \n",
            "           sum  mean\n",
            "Category            \n",
            "A           30  15.0\n",
            "B           40  20.0\n",
            "C           40  40.0\n"
          ]
        }
      ]
    },
    {
      "cell_type": "code",
      "source": [
        "pivot = df.pivot_table(index='Category', values='Value', aggfunc=['sum',\n",
        "'mean'])\n",
        "print(\"\\nPivot Table:\\n\", pivot)"
      ],
      "metadata": {
        "colab": {
          "base_uri": "https://localhost:8080/"
        },
        "id": "ManJaAyGQ8WK",
        "outputId": "bfde9dc0-337a-4b8d-ead5-565a5defc12e"
      },
      "execution_count": 17,
      "outputs": [
        {
          "output_type": "stream",
          "name": "stdout",
          "text": [
            "\n",
            "Pivot Table:\n",
            "            sum  mean\n",
            "         Value Value\n",
            "Category            \n",
            "A           30  15.0\n",
            "B           40  20.0\n",
            "C           40  40.0\n"
          ]
        }
      ]
    }
  ]
}